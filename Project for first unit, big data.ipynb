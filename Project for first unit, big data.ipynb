{
 "cells": [
  {
   "cell_type": "markdown",
   "metadata": {},
   "source": [
    "Aluno: Leandro Antônio Feliciano da Silva\n",
    "- Git Hub link https://github.com/LeandroMaxNatal/bigdata\n",
    "Obs: não sei o que esta acontecendo mas o caderno esta vazio no github por isso coloquei o codigo separado."
   ]
  },
  {
   "cell_type": "code",
   "execution_count": null,
   "metadata": {
    "collapsed": true
   },
   "outputs": [],
   "source": [
    "import random as rd\n",
    "\n",
    "#### Functions ####\n",
    "def fillList( numberOfElementes, lista ):\n",
    "    for i in range( numberOfElementes ):\n",
    "        lista.append( i )\n",
    "        \n",
    "def printResult(gameHistory_, diceHistoryGame_, numberOfRounds_):\n",
    "    lastFloor = initialFloor\n",
    "    for i in range(numberOfRounds_):\n",
    "        print('Initial Floor: ',initialFloor )\n",
    "        print(\">>>Round: \", i + 1)\n",
    "        for j in range(epoch):\n",
    "            if diceHistoryGame_[i][j] == 1 or diceHistoryGame[i][j] == 2:\n",
    "                print( 'Dice face:',diceHistoryGame_[i][j], 'Up 1 floor! Now the floor is:', gameHistory_[i][j] )\n",
    "                lastFloor = gameHistory_[i][j]\n",
    "            elif diceHistoryGame_[i][j] == 3 or diceHistoryGame[i][j] == 4 or diceHistoryGame_[i][j] == 5:\n",
    "                print( 'Dice face:',diceHistoryGame_[i][j], 'down 1 floor! Now the floor is:', gameHistory_[i][j] )\n",
    "                lastFloor = gameHistory_[i][j]\n",
    "            elif diceHistoryGame_[i][j] == 6:\n",
    "                print( 'Dice face:',diceHistoryGame_[i][j], 'Let\\'s roll the dice again!!!')\n",
    "                print( 'Dice face:', gameHistory_[i][j] - lastFloor,'Up', gameHistory_[i][j] - lastFloor, \"floor! Now the flor is:\", gameHistory_[i][j] )\n",
    "        print('\\n')\n",
    "\n",
    "#### Variables ####\n",
    "floorHistory        = []                #Store the floorHistoryList of every game.\n",
    "gameHistory         = []\n",
    "diceHistoryPerRound = []\n",
    "diceHistoryGame     = []\n",
    "numberOfRounds      = 500\n",
    "initialFloor        = 10\n",
    "currentFloor        = initialFloor     #the current floor starts with 10 but it can be changed by another positive number.\n",
    "epoch               = 100\n",
    "\n",
    "fillList( epoch, floorHistory )  #preenche a lista floorHistori para que ela tenha o numero de elementos de epoch\n",
    "fillList( epoch, diceHistoryPerRound )\n",
    "def rollDice():\n",
    "\treturn rd.randint(1,6)\n",
    "\n",
    "def copyList(listA):\n",
    "\treturn listA\n",
    "#Loop for 500 games\n",
    "for i in range( numberOfRounds ):\n",
    "\n",
    "    rd.seed( version = 2 )              #Seed for aleatory numbers\n",
    "    floor = rd.randint(0,100)           #set up the floor before the game begins\n",
    "    currentFloor = initialFloor\n",
    "    #loop for 100 epoch steps\n",
    "    for j in range( epoch ):\n",
    "        \n",
    "        zebraDice = rd.randint(1,1000)          #There is a 0.1% odds of going to Floor 0 \n",
    "\n",
    "        if zebraDice == 13:                     #13 is the zebra number.\n",
    "            currentFloor = 0                    #set up the floor to 0\n",
    "            floorHistory[ j ] = currentFloor    #store the floor position\n",
    "            diceHistoryPerRound[ j ] = zebraDice\n",
    "        else:\n",
    "            dice = rollDice()           #roll the dice\n",
    "\n",
    "            if dice == 1 or dice == 2:  #updates floor to floor++\n",
    "                currentFloor += 1\n",
    "                floorHistory[ j ] = currentFloor        #store the floor position\n",
    "                diceHistoryPerRound[ j ] = dice         #store the face of the dice\n",
    "            elif dice == 3 or dice == 4 or dice == 5:   #updates floor to floor--\n",
    "                currentFloor -= 1\n",
    "                floorHistory[ j ] = currentFloor        #store the floor position\n",
    "                diceHistoryPerRound[ j ] = dice         #store the face of the dice\n",
    "            elif dice == 6:                             #rool the dice and uptades the floor with new result\n",
    "                diceHistoryPerRound[ j ] = dice         #store the face of the dice\n",
    "                dice = rd.randint(1,6)                  #rool the dice again\n",
    "                currentFloor += dice\n",
    "                floorHistory[ j ] = currentFloor        #store the floor position\n",
    "                \n",
    "\n",
    "    gameHistory.append( floorHistory[ : ] )\n",
    "    diceHistoryGame.append( diceHistoryPerRound[ : ] )\n",
    "printResult( gameHistory, diceHistoryGame ,numberOfRounds )"
   ]
  },
  {
   "cell_type": "code",
   "execution_count": null,
   "metadata": {
    "collapsed": true
   },
   "outputs": [],
   "source": []
  },
  {
   "cell_type": "code",
   "execution_count": null,
   "metadata": {
    "collapsed": true
   },
   "outputs": [],
   "source": []
  }
 ],
 "metadata": {
  "kernelspec": {
   "display_name": "Python 3",
   "language": "python",
   "name": "python3"
  },
  "language_info": {
   "codemirror_mode": {
    "name": "ipython",
    "version": 3
   },
   "file_extension": ".py",
   "mimetype": "text/x-python",
   "name": "python",
   "nbconvert_exporter": "python",
   "pygments_lexer": "ipython3",
   "version": "3.6.0"
  }
 },
 "nbformat": 4,
 "nbformat_minor": 2
}
